{
 "cells": [
  {
   "cell_type": "markdown",
   "metadata": {},
   "source": [
    "# Проект для «Викишоп»"
   ]
  },
  {
   "cell_type": "markdown",
   "metadata": {},
   "source": [
    "## Подготовка данных"
   ]
  },
  {
   "cell_type": "code",
   "execution_count": 2,
   "metadata": {},
   "outputs": [
    {
     "name": "stderr",
     "output_type": "stream",
     "text": [
      "[nltk_data] Downloading package punkt to /home/jovyan/nltk_data...\n",
      "[nltk_data]   Package punkt is already up-to-date!\n",
      "[nltk_data] Downloading package wordnet to /home/jovyan/nltk_data...\n",
      "[nltk_data]   Package wordnet is already up-to-date!\n",
      "[nltk_data] Downloading package averaged_perceptron_tagger to\n",
      "[nltk_data]     /home/jovyan/nltk_data...\n",
      "[nltk_data]   Unzipping taggers/averaged_perceptron_tagger.zip.\n",
      "[nltk_data] Downloading package stopwords to /home/jovyan/nltk_data...\n",
      "[nltk_data]   Package stopwords is already up-to-date!\n"
     ]
    }
   ],
   "source": [
    "import pandas as pd\n",
    "import numpy as np\n",
    "import matplotlib.pyplot as plt\n",
    "import nltk\n",
    "import os\n",
    "import re\n",
    "\n",
    "from sklearn.linear_model import LogisticRegression\n",
    "from sklearn.metrics import f1_score\n",
    "from sklearn.feature_extraction.text import TfidfVectorizer\n",
    "from nltk.corpus import stopwords\n",
    "from sklearn.model_selection import train_test_split, RandomizedSearchCV\n",
    "from imblearn.pipeline import Pipeline\n",
    "from sklearn.neighbors import KNeighborsClassifier\n",
    "from sklearn.ensemble import RandomForestClassifier\n",
    "from catboost import CatBoostClassifier\n",
    "from imblearn.over_sampling import ADASYN\n",
    "from nltk.stem import WordNetLemmatizer\n",
    "from nltk.corpus import wordnet\n",
    "from nltk.tokenize import word_tokenize\n",
    "from lightgbm import LGBMClassifier\n",
    "\n",
    "nltk.download('punkt')\n",
    "nltk.download('wordnet')\n",
    "nltk.download('averaged_perceptron_tagger')\n",
    "nltk.download('stopwords')\n",
    "\n",
    "RANDOM_STATE = 42"
   ]
  },
  {
   "cell_type": "code",
   "execution_count": 3,
   "metadata": {},
   "outputs": [
    {
     "data": {
      "text/html": [
       "<div>\n",
       "<style scoped>\n",
       "    .dataframe tbody tr th:only-of-type {\n",
       "        vertical-align: middle;\n",
       "    }\n",
       "\n",
       "    .dataframe tbody tr th {\n",
       "        vertical-align: top;\n",
       "    }\n",
       "\n",
       "    .dataframe thead th {\n",
       "        text-align: right;\n",
       "    }\n",
       "</style>\n",
       "<table border=\"1\" class=\"dataframe\">\n",
       "  <thead>\n",
       "    <tr style=\"text-align: right;\">\n",
       "      <th></th>\n",
       "      <th>text</th>\n",
       "      <th>toxic</th>\n",
       "    </tr>\n",
       "  </thead>\n",
       "  <tbody>\n",
       "    <tr>\n",
       "      <th>0</th>\n",
       "      <td>Explanation\\nWhy the edits made under my username Hardcore Metallica Fan were reverted? They weren't vandalisms, just closure on some GAs after I voted at New York Dolls FAC. And please don't remove the template from the talk page since I'm retired now.89.205.38.27</td>\n",
       "      <td>0</td>\n",
       "    </tr>\n",
       "    <tr>\n",
       "      <th>1</th>\n",
       "      <td>D'aww! He matches this background colour I'm seemingly stuck with. Thanks.  (talk) 21:51, January 11, 2016 (UTC)</td>\n",
       "      <td>0</td>\n",
       "    </tr>\n",
       "    <tr>\n",
       "      <th>2</th>\n",
       "      <td>Hey man, I'm really not trying to edit war. It's just that this guy is constantly removing relevant information and talking to me through edits instead of my talk page. He seems to care more about the formatting than the actual info.</td>\n",
       "      <td>0</td>\n",
       "    </tr>\n",
       "    <tr>\n",
       "      <th>3</th>\n",
       "      <td>\"\\nMore\\nI can't make any real suggestions on improvement - I wondered if the section statistics should be later on, or a subsection of \"\"types of accidents\"\"  -I think the references may need tidying so that they are all in the exact same format ie date format etc. I can do that later on, if no-one else does first - if you have any preferences for formatting style on references or want to do it yourself please let me know.\\n\\nThere appears to be a backlog on articles for review so I guess there may be a delay until a reviewer turns up. It's listed in the relevant form eg Wikipedia:Good_article_nominations#Transport  \"</td>\n",
       "      <td>0</td>\n",
       "    </tr>\n",
       "    <tr>\n",
       "      <th>4</th>\n",
       "      <td>You, sir, are my hero. Any chance you remember what page that's on?</td>\n",
       "      <td>0</td>\n",
       "    </tr>\n",
       "  </tbody>\n",
       "</table>\n",
       "</div>"
      ],
      "text/plain": [
       "                                                                                                                                                                                                                                                                                                                                                                                                                                                                                                                                                                                                                                                 text  \\\n",
       "0                                                                                                                                                                                                                                                                                                                                                                           Explanation\\nWhy the edits made under my username Hardcore Metallica Fan were reverted? They weren't vandalisms, just closure on some GAs after I voted at New York Dolls FAC. And please don't remove the template from the talk page since I'm retired now.89.205.38.27   \n",
       "1                                                                                                                                                                                                                                                                                                                                                                                                                                                                                                                                    D'aww! He matches this background colour I'm seemingly stuck with. Thanks.  (talk) 21:51, January 11, 2016 (UTC)   \n",
       "2                                                                                                                                                                                                                                                                                                                                                                                                           Hey man, I'm really not trying to edit war. It's just that this guy is constantly removing relevant information and talking to me through edits instead of my talk page. He seems to care more about the formatting than the actual info.   \n",
       "3  \"\\nMore\\nI can't make any real suggestions on improvement - I wondered if the section statistics should be later on, or a subsection of \"\"types of accidents\"\"  -I think the references may need tidying so that they are all in the exact same format ie date format etc. I can do that later on, if no-one else does first - if you have any preferences for formatting style on references or want to do it yourself please let me know.\\n\\nThere appears to be a backlog on articles for review so I guess there may be a delay until a reviewer turns up. It's listed in the relevant form eg Wikipedia:Good_article_nominations#Transport  \"   \n",
       "4                                                                                                                                                                                                                                                                                                                                                                                                                                                                                                                                                                                 You, sir, are my hero. Any chance you remember what page that's on?   \n",
       "\n",
       "   toxic  \n",
       "0      0  \n",
       "1      0  \n",
       "2      0  \n",
       "3      0  \n",
       "4      0  "
      ]
     },
     "execution_count": 3,
     "metadata": {},
     "output_type": "execute_result"
    }
   ],
   "source": [
    "path1 = '/datasets/toxic_comments.csv'\n",
    "path2 = 'C:/Users/Kseno/Downloads/toxic_comments.csv'\n",
    "\n",
    "if os.path.exists(path1):\n",
    "    comments = pd.read_csv(path1, index_col = 'Unnamed: 0')\n",
    "elif os.path.exists(path2):\n",
    "    comments = pd.read_csv(path2, index_col = 'Unnamed: 0')\n",
    "else:\n",
    "    print('Something is wrong')\n",
    "\n",
    "pd.set_option('display.max_colwidth', None)\n",
    "comments.head()"
   ]
  },
  {
   "cell_type": "code",
   "execution_count": 4,
   "metadata": {},
   "outputs": [
    {
     "name": "stdout",
     "output_type": "stream",
     "text": [
      "<class 'pandas.core.frame.DataFrame'>\n",
      "Int64Index: 159292 entries, 0 to 159450\n",
      "Data columns (total 2 columns):\n",
      " #   Column  Non-Null Count   Dtype \n",
      "---  ------  --------------   ----- \n",
      " 0   text    159292 non-null  object\n",
      " 1   toxic   159292 non-null  int64 \n",
      "dtypes: int64(1), object(1)\n",
      "memory usage: 3.6+ MB\n"
     ]
    }
   ],
   "source": [
    "comments.info()"
   ]
  },
  {
   "cell_type": "code",
   "execution_count": 5,
   "metadata": {
    "scrolled": true
   },
   "outputs": [
    {
     "data": {
      "image/png": "[encoded data removed]",
      "text/plain": [
       "<Figure size 432x288 with 1 Axes>"
      ]
     },
     "metadata": {
      "needs_background": "light"
     },
     "output_type": "display_data"
    }
   ],
   "source": [
    "comments.toxic.value_counts(normalize=True).plot(kind='bar')\n",
    "plt.title('Соотношение классов в датасете')\n",
    "plt.grid(axis='y')\n",
    "plt.show()"
   ]
  },
  {
   "cell_type": "markdown",
   "metadata": {},
   "source": [
    "В датасете сильный дисбаланс классов: 90% положительных комментариев и 10% отрицательных. Для корректного обучения модели это нужно исправить."
   ]
  },
  {
   "cell_type": "code",
   "execution_count": 6,
   "metadata": {},
   "outputs": [],
   "source": [
    "# Создание датасета для экономии вычислительных ресурсов\n",
    "dataset = comments.sample(50000, random_state=RANDOM_STATE).reset_index(drop=True)"
   ]
  },
  {
   "cell_type": "code",
   "execution_count": 7,
   "metadata": {},
   "outputs": [],
   "source": [
    "lemmatizer = WordNetLemmatizer()\n",
    "stop_words = set(stopwords.words('english'))"
   ]
  },
  {
   "cell_type": "code",
   "execution_count": 8,
   "metadata": {},
   "outputs": [],
   "source": [
    "# Функция для проставления частей речи\n",
    "def get_pos(tag):\n",
    "    if tag.startswith('J'):\n",
    "        return wordnet.ADJ\n",
    "    elif tag.startswith('V'):\n",
    "        return wordnet.VERB\n",
    "    elif tag.startswith('N'):\n",
    "        return wordnet.NOUN\n",
    "    elif tag.startswith('R'):\n",
    "        return wordnet.ADV\n",
    "    else:\n",
    "        return wordnet.NOUN\n",
    "\n",
    "# Функция для лемматизации и очистки текста\n",
    "def clean_lemmatize(text):\n",
    "    text = text.lower()\n",
    "    text = re.sub(r'[^a-z]', ' ', text)\n",
    "    words = word_tokenize(text)\n",
    "    words = [word for word in words if word not in stop_words]\n",
    "    pos_tags = nltk.pos_tag(words)\n",
    "    lemmatized_words = [lemmatizer.lemmatize(word, get_pos(tag)) for word, tag in pos_tags]\n",
    "    return ' '.join(lemmatized_words)"
   ]
  },
  {
   "cell_type": "code",
   "execution_count": 9,
   "metadata": {},
   "outputs": [],
   "source": [
    "dataset['lemm_text'] = dataset['text'].apply(clean_lemmatize)"
   ]
  },
  {
   "cell_type": "code",
   "execution_count": 10,
   "metadata": {},
   "outputs": [
    {
     "data": {
      "text/html": [
       "<div>\n",
       "<style scoped>\n",
       "    .dataframe tbody tr th:only-of-type {\n",
       "        vertical-align: middle;\n",
       "    }\n",
       "\n",
       "    .dataframe tbody tr th {\n",
       "        vertical-align: top;\n",
       "    }\n",
       "\n",
       "    .dataframe thead th {\n",
       "        text-align: right;\n",
       "    }\n",
       "</style>\n",
       "<table border=\"1\" class=\"dataframe\">\n",
       "  <thead>\n",
       "    <tr style=\"text-align: right;\">\n",
       "      <th></th>\n",
       "      <th>text</th>\n",
       "      <th>toxic</th>\n",
       "      <th>lemm_text</th>\n",
       "    </tr>\n",
       "  </thead>\n",
       "  <tbody>\n",
       "    <tr>\n",
       "      <th>0</th>\n",
       "      <td>Sometime back, I just happened to log on to www.izoom.in with a friend’s reference and I was amazed to see the concept Fresh Ideas Entertainment has come up with. So many deals… all under one roof. This website is very user friendly and easy to use and is fun to be on.\\nYou have Gossip, Games, Facts… Another exciting feature to add to it is Face of the Week… Every week, 4 new faces are selected and put up as izoom faces. It’s great to have been selected in four out of a group of millions. \\nThis new start up has already got many a deals in its kitty. Few of them being TheFortune Hotel, The Beach… are my personal favorites. izoom.in has a USP of mobile coupons. Coupons are available even when a user cannot access internet. You just need to SMS izoom support to 56767 and you get attended immediately.\\nAll I can say is izoom.in is a must visit website for everyone before they go out for shopping or dining or for outing.\\nCheers!!!</td>\n",
       "      <td>0</td>\n",
       "      <td>sometime back happen log www izoom friend reference amaze see concept fresh idea entertainment come many deal one roof website user friendly easy use fun gossip game facts another exciting feature add face week every week new face select put izoom face great select four group million new start already get many deal kitty thefortune hotel beach personal favorite izoom usp mobile coupon coupon available even user access internet need sm izoom support get attend immediately say izoom must visit website everyone go shop din out cheer</td>\n",
       "    </tr>\n",
       "    <tr>\n",
       "      <th>1</th>\n",
       "      <td>\"\\n\\nThe latest edit is much better, don't make this article state \"\"super.\"\" at all. 71.237.70.49  \"</td>\n",
       "      <td>0</td>\n",
       "      <td>late edit much well make article state super</td>\n",
       "    </tr>\n",
       "    <tr>\n",
       "      <th>2</th>\n",
       "      <td>\" October 2007 (UTC)\\n\\nI would think you'd be able to get your point across, and be immune to any objections, were you to simply embellish the second sentence of the article by changing \"\"he was schooled at Thornleigh Salesian College\"\" to \"\"he was schooled at (the then all-Catholic) Thornleigh Salesian College\"\".   \\n\\nGood suggestion from an Anon - what do you think? Rgds, -  07:53, 5\"</td>\n",
       "      <td>0</td>\n",
       "      <td>october utc would think able get point across immune objection simply embellish second sentence article change school thornleigh salesian college school catholic thornleigh salesian college good suggestion anon think rgds</td>\n",
       "    </tr>\n",
       "    <tr>\n",
       "      <th>3</th>\n",
       "      <td>Thanks for the tip on the currency translation.  Think it's all done now.</td>\n",
       "      <td>0</td>\n",
       "      <td>thanks tip currency translation think do</td>\n",
       "    </tr>\n",
       "    <tr>\n",
       "      <th>4</th>\n",
       "      <td>I would argue that if content on the Con in comparison to the Arts Music is out of proportion, then it warrants further contribution to the article, not the removal of an indepth piece of content. Also, as I mentioned before, the Arts Music unit has a notable history comparable to that of the Con itself. Because of this, I would further argue that content on the Arts Music Unit is more relevant to this article than the information on the Newcastle Conservatorium.</td>\n",
       "      <td>0</td>\n",
       "      <td>would argue content con comparison art music proportion warrant contribution article removal indepth piece content also mention art music unit notable history comparable con would argue content art music unit relevant article information newcastle conservatorium</td>\n",
       "    </tr>\n",
       "    <tr>\n",
       "      <th>...</th>\n",
       "      <td>...</td>\n",
       "      <td>...</td>\n",
       "      <td>...</td>\n",
       "    </tr>\n",
       "    <tr>\n",
       "      <th>49995</th>\n",
       "      <td>Thanks for the advice. I tried and it did not work.</td>\n",
       "      <td>0</td>\n",
       "      <td>thanks advice try work</td>\n",
       "    </tr>\n",
       "    <tr>\n",
       "      <th>49996</th>\n",
       "      <td>\"\\n\\nI also like GPM's phrase, \"\"...Menzies' theories concerning early fifteenth century Chinese expeditions beyond the Cape of Good Hope to the Americas and Europe...\"\"\\nRegarding the merger last year, I strongly objected to the removal of content, which was done without discussion, let alone consensus.  I wrote at the time, \"\"A consensus to merge was NOT a consensus to mutilate the content of the articles discussing the books.\"\"   \"</td>\n",
       "      <td>0</td>\n",
       "      <td>also like gpm phrase menzies theory concern early fifteenth century chinese expedition beyond cape good hope america europe regard merger last year strongly object removal content do without discussion let alone consensus write time consensus merge consensus mutilate content article discuss book</td>\n",
       "    </tr>\n",
       "    <tr>\n",
       "      <th>49997</th>\n",
       "      <td>\"\\n\\nIf I never questioned the statement that E3b is \"\"common\"\" in Europe to begin with (although I did say the word was vague) it would indeed be odd if I then went on to say that the statement is extreme. How could something be vague be extreme? I also, to say it once more, do not question that the referenced source about Pakistan might indeed have said that \"\"E3b is common in Europe\"\" though referring to what we can also read in articles about more specifically about Europe. So I am questioning the type of referencing in the Wikipedia of which this is a discussion page, which seems extreme. Nothing else. Please address that. I have also explained specifically why I think this. Please read what I wrote again and respond to what I really wrote? The way I understand it, an article on Pakistan is being used simply in order to justify the word \"\"common\"\", whereas the articles about Europe, which both the Wikipedia article and the Pakistan E3b article must refer to, perhaps do not use that exact word, but rather give more detailed and less vague numbers and comments? If this is so, then maybe that is the way we should go - less vague?  \"</td>\n",
       "      <td>0</td>\n",
       "      <td>never question statement e b common europe begin although say word vague would indeed odd go say statement extreme could something vague extreme also say question reference source pakistan might indeed say e b common europe though refer also read article specifically europe question type reference wikipedia discussion page seem extreme nothing else please address also explain specifically think please read write respond really write way understand article pakistan use simply order justify word common whereas article europe wikipedia article pakistan e b article must refer perhaps use exact word rather give detailed less vague number comment maybe way go less vague</td>\n",
       "    </tr>\n",
       "    <tr>\n",
       "      <th>49998</th>\n",
       "      <td>\"\\n\\nKhalid is greatest general of all time, arguably.  Alexander is the second greatest general. For example, compare battle of Nihawand to Guagamela. Archaemenids recovered, Sassanids never recovered. In Yarmouk, Khalid outnumbered 10 to 1 but still victorious! He did not inherit an army, like Alexander's macedonian army from King Philip. He vanquished Persia and devastated Byzantium in 6 years! Plus he was many times outnumbered. None of these factors apply to Napoleon or Hannibal or Alexander. Acknowledge facts and logical truth. Dont become biased because Khalid was a muslim. Recognise his military genius and supremacy as the greatest general, Just as you recognise Shakespeare as arguably best writer in English langauge and Beethoven as arguably best composer. Acknowledge this truth impartially and accept my edit: \"\"Khalid was arguably the greatest military commander in history.\"\"\\n\\nPS stop referring to me as a vandaliser. I am speaking the stark truth. I respect wikipedia and want to mantain its status as the most comprehensive, voluminous, and reputable, informational resource on the internet. \\n\\nCordially,\\n\\n  Don Zaloog\\n\\n\"</td>\n",
       "      <td>0</td>\n",
       "      <td>khalid great general time arguably alexander second great general example compare battle nihawand guagamela archaemenids recover sassanids never recover yarmouk khalid outnumber still victorious inherit army like alexander macedonian army king philip vanquish persia devastate byzantium year plus many time outnumber none factor apply napoleon hannibal alexander acknowledge facts logical truth dont become bias khalid muslim recognise military genius supremacy great general recognise shakespeare arguably best writer english langauge beethoven arguably best composer acknowledge truth impartially accept edit khalid arguably great military commander history p stop refer vandaliser speak stark truth respect wikipedia want mantain status comprehensive voluminous reputable informational resource internet cordially zaloog</td>\n",
       "    </tr>\n",
       "    <tr>\n",
       "      <th>49999</th>\n",
       "      <td>Please leave a link or the reply also on my talk page; that way I can reply faster.</td>\n",
       "      <td>0</td>\n",
       "      <td>please leave link reply also talk page way reply fast</td>\n",
       "    </tr>\n",
       "  </tbody>\n",
       "</table>\n",
       "<p>50000 rows × 3 columns</p>\n",
       "</div>"
      ],
      "text/plain": [
       "                                                                                                                                                                                                                                                                                                                                                                                                                                                                                                                                                                                                                                                                                                                                                                                                                                                                                                                                                                                                                                                                                                                                                                                                     text  \\\n",
       "0                                                                                                                                                                                                                           Sometime back, I just happened to log on to www.izoom.in with a friend’s reference and I was amazed to see the concept Fresh Ideas Entertainment has come up with. So many deals… all under one roof. This website is very user friendly and easy to use and is fun to be on.\\nYou have Gossip, Games, Facts… Another exciting feature to add to it is Face of the Week… Every week, 4 new faces are selected and put up as izoom faces. It’s great to have been selected in four out of a group of millions. \\nThis new start up has already got many a deals in its kitty. Few of them being TheFortune Hotel, The Beach… are my personal favorites. izoom.in has a USP of mobile coupons. Coupons are available even when a user cannot access internet. You just need to SMS izoom support to 56767 and you get attended immediately.\\nAll I can say is izoom.in is a must visit website for everyone before they go out for shopping or dining or for outing.\\nCheers!!!   \n",
       "1                                                                                                                                                                                                                                                                                                                                                                                                                                                                                                                                                                                                                                                                                                                                                                                                                                                                                                                                                                                                                                                                                                   \"\\n\\nThe latest edit is much better, don't make this article state \"\"super.\"\" at all. 71.237.70.49  \"   \n",
       "2                                                                                                                                                                                                                                                                                                                                                                                                                                                                                                                                                                                                                                                                                                                                                                                                 \" October 2007 (UTC)\\n\\nI would think you'd be able to get your point across, and be immune to any objections, were you to simply embellish the second sentence of the article by changing \"\"he was schooled at Thornleigh Salesian College\"\" to \"\"he was schooled at (the then all-Catholic) Thornleigh Salesian College\"\".   \\n\\nGood suggestion from an Anon - what do you think? Rgds, -  07:53, 5\"   \n",
       "3                                                                                                                                                                                                                                                                                                                                                                                                                                                                                                                                                                                                                                                                                                                                                                                                                                                                                                                                                                                                                                                                                                                               Thanks for the tip on the currency translation.  Think it's all done now.   \n",
       "4                                                                                                                                                                                                                                                                                                                                                                                                                                                                                                                                                                                                                                                                                                                     I would argue that if content on the Con in comparison to the Arts Music is out of proportion, then it warrants further contribution to the article, not the removal of an indepth piece of content. Also, as I mentioned before, the Arts Music unit has a notable history comparable to that of the Con itself. Because of this, I would further argue that content on the Arts Music Unit is more relevant to this article than the information on the Newcastle Conservatorium.   \n",
       "...                                                                                                                                                                                                                                                                                                                                                                                                                                                                                                                                                                                                                                                                                                                                                                                                                                                                                                                                                                                                                                                                                                                                                                                                   ...   \n",
       "49995                                                                                                                                                                                                                                                                                                                                                                                                                                                                                                                                                                                                                                                                                                                                                                                                                                                                                                                                                                                                                                                                                                                                                 Thanks for the advice. I tried and it did not work.   \n",
       "49996                                                                                                                                                                                                                                                                                                                                                                                                                                                                                                                                                                                                                                                                                                                                              \"\\n\\nI also like GPM's phrase, \"\"...Menzies' theories concerning early fifteenth century Chinese expeditions beyond the Cape of Good Hope to the Americas and Europe...\"\"\\nRegarding the merger last year, I strongly objected to the removal of content, which was done without discussion, let alone consensus.  I wrote at the time, \"\"A consensus to merge was NOT a consensus to mutilate the content of the articles discussing the books.\"\"   \"   \n",
       "49997    \"\\n\\nIf I never questioned the statement that E3b is \"\"common\"\" in Europe to begin with (although I did say the word was vague) it would indeed be odd if I then went on to say that the statement is extreme. How could something be vague be extreme? I also, to say it once more, do not question that the referenced source about Pakistan might indeed have said that \"\"E3b is common in Europe\"\" though referring to what we can also read in articles about more specifically about Europe. So I am questioning the type of referencing in the Wikipedia of which this is a discussion page, which seems extreme. Nothing else. Please address that. I have also explained specifically why I think this. Please read what I wrote again and respond to what I really wrote? The way I understand it, an article on Pakistan is being used simply in order to justify the word \"\"common\"\", whereas the articles about Europe, which both the Wikipedia article and the Pakistan E3b article must refer to, perhaps do not use that exact word, but rather give more detailed and less vague numbers and comments? If this is so, then maybe that is the way we should go - less vague?  \"   \n",
       "49998  \"\\n\\nKhalid is greatest general of all time, arguably.  Alexander is the second greatest general. For example, compare battle of Nihawand to Guagamela. Archaemenids recovered, Sassanids never recovered. In Yarmouk, Khalid outnumbered 10 to 1 but still victorious! He did not inherit an army, like Alexander's macedonian army from King Philip. He vanquished Persia and devastated Byzantium in 6 years! Plus he was many times outnumbered. None of these factors apply to Napoleon or Hannibal or Alexander. Acknowledge facts and logical truth. Dont become biased because Khalid was a muslim. Recognise his military genius and supremacy as the greatest general, Just as you recognise Shakespeare as arguably best writer in English langauge and Beethoven as arguably best composer. Acknowledge this truth impartially and accept my edit: \"\"Khalid was arguably the greatest military commander in history.\"\"\\n\\nPS stop referring to me as a vandaliser. I am speaking the stark truth. I respect wikipedia and want to mantain its status as the most comprehensive, voluminous, and reputable, informational resource on the internet. \\n\\nCordially,\\n\\n  Don Zaloog\\n\\n\"   \n",
       "49999                                                                                                                                                                                                                                                                                                                                                                                                                                                                                                                                                                                                                                                                                                                                                                                                                                                                                                                                                                                                                                                                                                                 Please leave a link or the reply also on my talk page; that way I can reply faster.   \n",
       "\n",
       "       toxic  \\\n",
       "0          0   \n",
       "1          0   \n",
       "2          0   \n",
       "3          0   \n",
       "4          0   \n",
       "...      ...   \n",
       "49995      0   \n",
       "49996      0   \n",
       "49997      0   \n",
       "49998      0   \n",
       "49999      0   \n",
       "\n",
       "                                                                                                                                                                                                                                                                                                                                                                                                                                                                                                                                                                                                                                                                                                                                                                                                                                                     lemm_text  \n",
       "0                                                                                                                                                                                                                                                                                                      sometime back happen log www izoom friend reference amaze see concept fresh idea entertainment come many deal one roof website user friendly easy use fun gossip game facts another exciting feature add face week every week new face select put izoom face great select four group million new start already get many deal kitty thefortune hotel beach personal favorite izoom usp mobile coupon coupon available even user access internet need sm izoom support get attend immediately say izoom must visit website everyone go shop din out cheer  \n",
       "1                                                                                                                                                                                                                                                                                                                                                                                                                                                                                                                                                                                                                                                                                                                                                                                                                 late edit much well make article state super  \n",
       "2                                                                                                                                                                                                                                                                                                                                                                                                                                                                                                                                                                                                                                october utc would think able get point across immune objection simply embellish second sentence article change school thornleigh salesian college school catholic thornleigh salesian college good suggestion anon think rgds  \n",
       "3                                                                                                                                                                                                                                                                                                                                                                                                                                                                                                                                                                                                                                                                                                                                                                                                                     thanks tip currency translation think do  \n",
       "4                                                                                                                                                                                                                                                                                                                                                                                                                                                                                                                                                                                       would argue content con comparison art music proportion warrant contribution article removal indepth piece content also mention art music unit notable history comparable con would argue content art music unit relevant article information newcastle conservatorium  \n",
       "...                                                                                                                                                                                                                                                                                                                                                                                                                                                                                                                                                                                                                                                                                                                                                                                                                                                        ...  \n",
       "49995                                                                                                                                                                                                                                                                                                                                                                                                                                                                                                                                                                                                                                                                                                                                                                                                                                   thanks advice try work  \n",
       "49996                                                                                                                                                                                                                                                                                                                                                                                                                                                                                                                                                 also like gpm phrase menzies theory concern early fifteenth century chinese expedition beyond cape good hope america europe regard merger last year strongly object removal content do without discussion let alone consensus write time consensus merge consensus mutilate content article discuss book  \n",
       "49997                                                                                                                                                         never question statement e b common europe begin although say word vague would indeed odd go say statement extreme could something vague extreme also say question reference source pakistan might indeed say e b common europe though refer also read article specifically europe question type reference wikipedia discussion page seem extreme nothing else please address also explain specifically think please read write respond really write way understand article pakistan use simply order justify word common whereas article europe wikipedia article pakistan e b article must refer perhaps use exact word rather give detailed less vague number comment maybe way go less vague  \n",
       "49998  khalid great general time arguably alexander second great general example compare battle nihawand guagamela archaemenids recover sassanids never recover yarmouk khalid outnumber still victorious inherit army like alexander macedonian army king philip vanquish persia devastate byzantium year plus many time outnumber none factor apply napoleon hannibal alexander acknowledge facts logical truth dont become bias khalid muslim recognise military genius supremacy great general recognise shakespeare arguably best writer english langauge beethoven arguably best composer acknowledge truth impartially accept edit khalid arguably great military commander history p stop refer vandaliser speak stark truth respect wikipedia want mantain status comprehensive voluminous reputable informational resource internet cordially zaloog  \n",
       "49999                                                                                                                                                                                                                                                                                                                                                                                                                                                                                                                                                                                                                                                                                                                                                                                                    please leave link reply also talk page way reply fast  \n",
       "\n",
       "[50000 rows x 3 columns]"
      ]
     },
     "execution_count": 10,
     "metadata": {},
     "output_type": "execute_result"
    }
   ],
   "source": [
    "dataset"
   ]
  },
  {
   "cell_type": "markdown",
   "metadata": {},
   "source": [
    "## Обучение"
   ]
  },
  {
   "cell_type": "code",
   "execution_count": 11,
   "metadata": {},
   "outputs": [],
   "source": [
    "X_train, X_valid, y_train, y_valid = train_test_split(\n",
    "    dataset['lemm_text'],\n",
    "    dataset['toxic'],\n",
    "    test_size=0.3,\n",
    "    random_state=RANDOM_STATE,\n",
    "    stratify=dataset['toxic']\n",
    ")"
   ]
  },
  {
   "cell_type": "code",
   "execution_count": 12,
   "metadata": {},
   "outputs": [],
   "source": [
    "X_valid, X_test, y_valid, y_test = train_test_split(\n",
    "    dataset['lemm_text'],\n",
    "    dataset['toxic'],\n",
    "    test_size=0.5,\n",
    "    random_state=RANDOM_STATE,\n",
    "    stratify=dataset['toxic']\n",
    ")"
   ]
  },
  {
   "cell_type": "code",
   "execution_count": 13,
   "metadata": {},
   "outputs": [],
   "source": [
    "pipe_final = Pipeline(\n",
    "    [\n",
    "        ('tfidf', TfidfVectorizer()),\n",
    "        ('adasyn', ADASYN(sampling_strategy='minority', random_state=RANDOM_STATE)),\n",
    "        ('models', RandomForestClassifier(random_state=RANDOM_STATE, class_weight='balanced'))\n",
    "    ]\n",
    ")\n",
    "\n",
    "params = [\n",
    "    {\n",
    "        'models': [RandomForestClassifier(random_state=RANDOM_STATE, class_weight='balanced')],\n",
    "        'models__n_estimators': range(50, 55, 5),\n",
    "        'models__max_depth': range(20, 25, 5)\n",
    "    },\n",
    "    {\n",
    "        'models': [LogisticRegression(\n",
    "            random_state=RANDOM_STATE,\n",
    "            class_weight='balanced'\n",
    "        )]\n",
    "    },\n",
    "    {\n",
    "        'models': [LGBMClassifier(random_state=RANDOM_STATE)],\n",
    "        'models__n_estimators': [200],\n",
    "        'models__learning_rate': [0.1]\n",
    "    },\n",
    "    {\n",
    "        'models': [KNeighborsClassifier()],\n",
    "        'models__n_neighbors': [2, 5, 10]\n",
    "    },\n",
    "    {\n",
    "        'models': [CatBoostClassifier(random_state=RANDOM_STATE, verbose=False)],\n",
    "        'models__iterations': range(100, 200, 50),\n",
    "        'models__learning_rate': [0.01, 0.05, 0.1],\n",
    "        'models__max_depth': range(5, 7)\n",
    "    }\n",
    "]"
   ]
  },
  {
   "cell_type": "code",
   "execution_count": 14,
   "metadata": {},
   "outputs": [],
   "source": [
    "randomized_search = RandomizedSearchCV(\n",
    "    pipe_final, \n",
    "    params, \n",
    "    cv=3,\n",
    "    scoring='f1',\n",
    "    random_state=RANDOM_STATE,\n",
    "    n_jobs=-1,\n",
    "    error_score='raise'\n",
    ")"
   ]
  },
  {
   "cell_type": "code",
   "execution_count": 15,
   "metadata": {},
   "outputs": [
    {
     "data": {
      "text/html": [
       "<style>#sk-container-id-1 {\n",
       "  /* Definition of color scheme common for light and dark mode */\n",
       "  --sklearn-color-text: black;\n",
       "  --sklearn-color-line: gray;\n",
       "  /* Definition of color scheme for unfitted estimators */\n",
       "  --sklearn-color-unfitted-level-0: #fff5e6;\n",
       "  --sklearn-color-unfitted-level-1: #f6e4d2;\n",
       "  --sklearn-color-unfitted-level-2: #ffe0b3;\n",
       "  --sklearn-color-unfitted-level-3: chocolate;\n",
       "  /* Definition of color scheme for fitted estimators */\n",
       "  --sklearn-color-fitted-level-0: #f0f8ff;\n",
       "  --sklearn-color-fitted-level-1: #d4ebff;\n",
       "  --sklearn-color-fitted-level-2: #b3dbfd;\n",
       "  --sklearn-color-fitted-level-3: cornflowerblue;\n",
       "\n",
       "  /* Specific color for light theme */\n",
       "  --sklearn-color-text-on-default-background: var(--sg-text-color, var(--theme-code-foreground, var(--jp-content-font-color1, black)));\n",
       "  --sklearn-color-background: var(--sg-background-color, var(--theme-background, var(--jp-layout-color0, white)));\n",
       "  --sklearn-color-border-box: var(--sg-text-color, var(--theme-code-foreground, var(--jp-content-font-color1, black)));\n",
       "  --sklearn-color-icon: #696969;\n",
       "\n",
       "  @media (prefers-color-scheme: dark) {\n",
       "    /* Redefinition of color scheme for dark theme */\n",
       "    --sklearn-color-text-on-default-background: var(--sg-text-color, var(--theme-code-foreground, var(--jp-content-font-color1, white)));\n",
       "    --sklearn-color-background: var(--sg-background-color, var(--theme-background, var(--jp-layout-color0, #111)));\n",
       "    --sklearn-color-border-box: var(--sg-text-color, var(--theme-code-foreground, var(--jp-content-font-color1, white)));\n",
       "    --sklearn-color-icon: #878787;\n",
       "  }\n",
       "}\n",
       "\n",
       "#sk-container-id-1 {\n",
       "  color: var(--sklearn-color-text);\n",
       "}\n",
       "\n",
       "#sk-container-id-1 pre {\n",
       "  padding: 0;\n",
       "}\n",
       "\n",
       "#sk-container-id-1 input.sk-hidden--visually {\n",
       "  border: 0;\n",
       "  clip: rect(1px 1px 1px 1px);\n",
       "  clip: rect(1px, 1px, 1px, 1px);\n",
       "  height: 1px;\n",
       "  margin: -1px;\n",
       "  overflow: hidden;\n",
       "  padding: 0;\n",
       "  position: absolute;\n",
       "  width: 1px;\n",
       "}\n",
       "\n",
       "#sk-container-id-1 div.sk-dashed-wrapped {\n",
       "  border: 1px dashed var(--sklearn-color-line);\n",
       "  margin: 0 0.4em 0.5em 0.4em;\n",
       "  box-sizing: border-box;\n",
       "  padding-bottom: 0.4em;\n",
       "  background-color: var(--sklearn-color-background);\n",
       "}\n",
       "\n",
       "#sk-container-id-1 div.sk-container {\n",
       "  /* jupyter's `normalize.less` sets `[hidden] { display: none; }`\n",
       "     but bootstrap.min.css set `[hidden] { display: none !important; }`\n",
       "     so we also need the `!important` here to be able to override the\n",
       "     default hidden behavior on the sphinx rendered scikit-learn.org.\n",
       "     See: https://github.com/scikit-learn/scikit-learn/issues/21755 */\n",
       "  display: inline-block !important;\n",
       "  position: relative;\n",
       "}\n",
       "\n",
       "#sk-container-id-1 div.sk-text-repr-fallback {\n",
       "  display: none;\n",
       "}\n",
       "\n",
       "div.sk-parallel-item,\n",
       "div.sk-serial,\n",
       "div.sk-item {\n",
       "  /* draw centered vertical line to link estimators */\n",
       "  background-image: linear-gradient(var(--sklearn-color-text-on-default-background), var(--sklearn-color-text-on-default-background));\n",
       "  background-size: 2px 100%;\n",
       "  background-repeat: no-repeat;\n",
       "  background-position: center center;\n",
       "}\n",
       "\n",
       "/* Parallel-specific style estimator block */\n",
       "\n",
       "#sk-container-id-1 div.sk-parallel-item::after {\n",
       "  content: \"\";\n",
       "  width: 100%;\n",
       "  border-bottom: 2px solid var(--sklearn-color-text-on-default-background);\n",
       "  flex-grow: 1;\n",
       "}\n",
       "\n",
       "#sk-container-id-1 div.sk-parallel {\n",
       "  display: flex;\n",
       "  align-items: stretch;\n",
       "  justify-content: center;\n",
       "  background-color: var(--sklearn-color-background);\n",
       "  position: relative;\n",
       "}\n",
       "\n",
       "#sk-container-id-1 div.sk-parallel-item {\n",
       "  display: flex;\n",
       "  flex-direction: column;\n",
       "}\n",
       "\n",
       "#sk-container-id-1 div.sk-parallel-item:first-child::after {\n",
       "  align-self: flex-end;\n",
       "  width: 50%;\n",
       "}\n",
       "\n",
       "#sk-container-id-1 div.sk-parallel-item:last-child::after {\n",
       "  align-self: flex-start;\n",
       "  width: 50%;\n",
       "}\n",
       "\n",
       "#sk-container-id-1 div.sk-parallel-item:only-child::after {\n",
       "  width: 0;\n",
       "}\n",
       "\n",
       "/* Serial-specific style estimator block */\n",
       "\n",
       "#sk-container-id-1 div.sk-serial {\n",
       "  display: flex;\n",
       "  flex-direction: column;\n",
       "  align-items: center;\n",
       "  background-color: var(--sklearn-color-background);\n",
       "  padding-right: 1em;\n",
       "  padding-left: 1em;\n",
       "}\n",
       "\n",
       "\n",
       "/* Toggleable style: style used for estimator/Pipeline/ColumnTransformer box that is\n",
       "clickable and can be expanded/collapsed.\n",
       "- Pipeline and ColumnTransformer use this feature and define the default style\n",
       "- Estimators will overwrite some part of the style using the `sk-estimator` class\n",
       "*/\n",
       "\n",
       "/* Pipeline and ColumnTransformer style (default) */\n",
       "\n",
       "#sk-container-id-1 div.sk-toggleable {\n",
       "  /* Default theme specific background. It is overwritten whether we have a\n",
       "  specific estimator or a Pipeline/ColumnTransformer */\n",
       "  background-color: var(--sklearn-color-background);\n",
       "}\n",
       "\n",
       "/* Toggleable label */\n",
       "#sk-container-id-1 label.sk-toggleable__label {\n",
       "  cursor: pointer;\n",
       "  display: block;\n",
       "  width: 100%;\n",
       "  margin-bottom: 0;\n",
       "  padding: 0.5em;\n",
       "  box-sizing: border-box;\n",
       "  text-align: center;\n",
       "}\n",
       "\n",
       "#sk-container-id-1 label.sk-toggleable__label-arrow:before {\n",
       "  /* Arrow on the left of the label */\n",
       "  content: \"▸\";\n",
       "  float: left;\n",
       "  margin-right: 0.25em;\n",
       "  color: var(--sklearn-color-icon);\n",
       "}\n",
       "\n",
       "#sk-container-id-1 label.sk-toggleable__label-arrow:hover:before {\n",
       "  color: var(--sklearn-color-text);\n",
       "}\n",
       "\n",
       "/* Toggleable content - dropdown */\n",
       "\n",
       "#sk-container-id-1 div.sk-toggleable__content {\n",
       "  max-height: 0;\n",
       "  max-width: 0;\n",
       "  overflow: hidden;\n",
       "  text-align: left;\n",
       "  /* unfitted */\n",
       "  background-color: var(--sklearn-color-unfitted-level-0);\n",
       "}\n",
       "\n",
       "#sk-container-id-1 div.sk-toggleable__content.fitted {\n",
       "  /* fitted */\n",
       "  background-color: var(--sklearn-color-fitted-level-0);\n",
       "}\n",
       "\n",
       "#sk-container-id-1 div.sk-toggleable__content pre {\n",
       "  margin: 0.2em;\n",
       "  border-radius: 0.25em;\n",
       "  color: var(--sklearn-color-text);\n",
       "  /* unfitted */\n",
       "  background-color: var(--sklearn-color-unfitted-level-0);\n",
       "}\n",
       "\n",
       "#sk-container-id-1 div.sk-toggleable__content.fitted pre {\n",
       "  /* unfitted */\n",
       "  background-color: var(--sklearn-color-fitted-level-0);\n",
       "}\n",
       "\n",
       "#sk-container-id-1 input.sk-toggleable__control:checked~div.sk-toggleable__content {\n",
       "  /* Expand drop-down */\n",
       "  max-height: 200px;\n",
       "  max-width: 100%;\n",
       "  overflow: auto;\n",
       "}\n",
       "\n",
       "#sk-container-id-1 input.sk-toggleable__control:checked~label.sk-toggleable__label-arrow:before {\n",
       "  content: \"▾\";\n",
       "}\n",
       "\n",
       "/* Pipeline/ColumnTransformer-specific style */\n",
       "\n",
       "#sk-container-id-1 div.sk-label input.sk-toggleable__control:checked~label.sk-toggleable__label {\n",
       "  color: var(--sklearn-color-text);\n",
       "  background-color: var(--sklearn-color-unfitted-level-2);\n",
       "}\n",
       "\n",
       "#sk-container-id-1 div.sk-label.fitted input.sk-toggleable__control:checked~label.sk-toggleable__label {\n",
       "  background-color: var(--sklearn-color-fitted-level-2);\n",
       "}\n",
       "\n",
       "/* Estimator-specific style */\n",
       "\n",
       "/* Colorize estimator box */\n",
       "#sk-container-id-1 div.sk-estimator input.sk-toggleable__control:checked~label.sk-toggleable__label {\n",
       "  /* unfitted */\n",
       "  background-color: var(--sklearn-color-unfitted-level-2);\n",
       "}\n",
       "\n",
       "#sk-container-id-1 div.sk-estimator.fitted input.sk-toggleable__control:checked~label.sk-toggleable__label {\n",
       "  /* fitted */\n",
       "  background-color: var(--sklearn-color-fitted-level-2);\n",
       "}\n",
       "\n",
       "#sk-container-id-1 div.sk-label label.sk-toggleable__label,\n",
       "#sk-container-id-1 div.sk-label label {\n",
       "  /* The background is the default theme color */\n",
       "  color: var(--sklearn-color-text-on-default-background);\n",
       "}\n",
       "\n",
       "/* On hover, darken the color of the background */\n",
       "#sk-container-id-1 div.sk-label:hover label.sk-toggleable__label {\n",
       "  color: var(--sklearn-color-text);\n",
       "  background-color: var(--sklearn-color-unfitted-level-2);\n",
       "}\n",
       "\n",
       "/* Label box, darken color on hover, fitted */\n",
       "#sk-container-id-1 div.sk-label.fitted:hover label.sk-toggleable__label.fitted {\n",
       "  color: var(--sklearn-color-text);\n",
       "  background-color: var(--sklearn-color-fitted-level-2);\n",
       "}\n",
       "\n",
       "/* Estimator label */\n",
       "\n",
       "#sk-container-id-1 div.sk-label label {\n",
       "  font-family: monospace;\n",
       "  font-weight: bold;\n",
       "  display: inline-block;\n",
       "  line-height: 1.2em;\n",
       "}\n",
       "\n",
       "#sk-container-id-1 div.sk-label-container {\n",
       "  text-align: center;\n",
       "}\n",
       "\n",
       "/* Estimator-specific */\n",
       "#sk-container-id-1 div.sk-estimator {\n",
       "  font-family: monospace;\n",
       "  border: 1px dotted var(--sklearn-color-border-box);\n",
       "  border-radius: 0.25em;\n",
       "  box-sizing: border-box;\n",
       "  margin-bottom: 0.5em;\n",
       "  /* unfitted */\n",
       "  background-color: var(--sklearn-color-unfitted-level-0);\n",
       "}\n",
       "\n",
       "#sk-container-id-1 div.sk-estimator.fitted {\n",
       "  /* fitted */\n",
       "  background-color: var(--sklearn-color-fitted-level-0);\n",
       "}\n",
       "\n",
       "/* on hover */\n",
       "#sk-container-id-1 div.sk-estimator:hover {\n",
       "  /* unfitted */\n",
       "  background-color: var(--sklearn-color-unfitted-level-2);\n",
       "}\n",
       "\n",
       "#sk-container-id-1 div.sk-estimator.fitted:hover {\n",
       "  /* fitted */\n",
       "  background-color: var(--sklearn-color-fitted-level-2);\n",
       "}\n",
       "\n",
       "/* Specification for estimator info (e.g. \"i\" and \"?\") */\n",
       "\n",
       "/* Common style for \"i\" and \"?\" */\n",
       "\n",
       ".sk-estimator-doc-link,\n",
       "a:link.sk-estimator-doc-link,\n",
       "a:visited.sk-estimator-doc-link {\n",
       "  float: right;\n",
       "  font-size: smaller;\n",
       "  line-height: 1em;\n",
       "  font-family: monospace;\n",
       "  background-color: var(--sklearn-color-background);\n",
       "  border-radius: 1em;\n",
       "  height: 1em;\n",
       "  width: 1em;\n",
       "  text-decoration: none !important;\n",
       "  margin-left: 1ex;\n",
       "  /* unfitted */\n",
       "  border: var(--sklearn-color-unfitted-level-1) 1pt solid;\n",
       "  color: var(--sklearn-color-unfitted-level-1);\n",
       "}\n",
       "\n",
       ".sk-estimator-doc-link.fitted,\n",
       "a:link.sk-estimator-doc-link.fitted,\n",
       "a:visited.sk-estimator-doc-link.fitted {\n",
       "  /* fitted */\n",
       "  border: var(--sklearn-color-fitted-level-1) 1pt solid;\n",
       "  color: var(--sklearn-color-fitted-level-1);\n",
       "}\n",
       "\n",
       "/* On hover */\n",
       "div.sk-estimator:hover .sk-estimator-doc-link:hover,\n",
       ".sk-estimator-doc-link:hover,\n",
       "div.sk-label-container:hover .sk-estimator-doc-link:hover,\n",
       ".sk-estimator-doc-link:hover {\n",
       "  /* unfitted */\n",
       "  background-color: var(--sklearn-color-unfitted-level-3);\n",
       "  color: var(--sklearn-color-background);\n",
       "  text-decoration: none;\n",
       "}\n",
       "\n",
       "div.sk-estimator.fitted:hover .sk-estimator-doc-link.fitted:hover,\n",
       ".sk-estimator-doc-link.fitted:hover,\n",
       "div.sk-label-container:hover .sk-estimator-doc-link.fitted:hover,\n",
       ".sk-estimator-doc-link.fitted:hover {\n",
       "  /* fitted */\n",
       "  background-color: var(--sklearn-color-fitted-level-3);\n",
       "  color: var(--sklearn-color-background);\n",
       "  text-decoration: none;\n",
       "}\n",
       "\n",
       "/* Span, style for the box shown on hovering the info icon */\n",
       ".sk-estimator-doc-link span {\n",
       "  display: none;\n",
       "  z-index: 9999;\n",
       "  position: relative;\n",
       "  font-weight: normal;\n",
       "  right: .2ex;\n",
       "  padding: .5ex;\n",
       "  margin: .5ex;\n",
       "  width: min-content;\n",
       "  min-width: 20ex;\n",
       "  max-width: 50ex;\n",
       "  color: var(--sklearn-color-text);\n",
       "  box-shadow: 2pt 2pt 4pt #999;\n",
       "  /* unfitted */\n",
       "  background: var(--sklearn-color-unfitted-level-0);\n",
       "  border: .5pt solid var(--sklearn-color-unfitted-level-3);\n",
       "}\n",
       "\n",
       ".sk-estimator-doc-link.fitted span {\n",
       "  /* fitted */\n",
       "  background: var(--sklearn-color-fitted-level-0);\n",
       "  border: var(--sklearn-color-fitted-level-3);\n",
       "}\n",
       "\n",
       ".sk-estimator-doc-link:hover span {\n",
       "  display: block;\n",
       "}\n",
       "\n",
       "/* \"?\"-specific style due to the `<a>` HTML tag */\n",
       "\n",
       "#sk-container-id-1 a.estimator_doc_link {\n",
       "  float: right;\n",
       "  font-size: 1rem;\n",
       "  line-height: 1em;\n",
       "  font-family: monospace;\n",
       "  background-color: var(--sklearn-color-background);\n",
       "  border-radius: 1rem;\n",
       "  height: 1rem;\n",
       "  width: 1rem;\n",
       "  text-decoration: none;\n",
       "  /* unfitted */\n",
       "  color: var(--sklearn-color-unfitted-level-1);\n",
       "  border: var(--sklearn-color-unfitted-level-1) 1pt solid;\n",
       "}\n",
       "\n",
       "#sk-container-id-1 a.estimator_doc_link.fitted {\n",
       "  /* fitted */\n",
       "  border: var(--sklearn-color-fitted-level-1) 1pt solid;\n",
       "  color: var(--sklearn-color-fitted-level-1);\n",
       "}\n",
       "\n",
       "/* On hover */\n",
       "#sk-container-id-1 a.estimator_doc_link:hover {\n",
       "  /* unfitted */\n",
       "  background-color: var(--sklearn-color-unfitted-level-3);\n",
       "  color: var(--sklearn-color-background);\n",
       "  text-decoration: none;\n",
       "}\n",
       "\n",
       "#sk-container-id-1 a.estimator_doc_link.fitted:hover {\n",
       "  /* fitted */\n",
       "  background-color: var(--sklearn-color-fitted-level-3);\n",
       "}\n",
       "</style><div id=\"sk-container-id-1\" class=\"sk-top-container\"><div class=\"sk-text-repr-fallback\"><pre>RandomizedSearchCV(cv=3, error_score=&#x27;raise&#x27;,\n",
       "                   estimator=Pipeline(steps=[(&#x27;tfidf&#x27;, TfidfVectorizer()),\n",
       "                                             (&#x27;adasyn&#x27;,\n",
       "                                              ADASYN(random_state=42,\n",
       "                                                     sampling_strategy=&#x27;minority&#x27;)),\n",
       "                                             (&#x27;models&#x27;,\n",
       "                                              RandomForestClassifier(class_weight=&#x27;balanced&#x27;,\n",
       "                                                                     random_state=42))]),\n",
       "                   n_jobs=-1,\n",
       "                   param_distributions=[{&#x27;models&#x27;: [RandomForestClassifier(class_weight=&#x27;balanced&#x27;,\n",
       "                                                                           random_state=42)],\n",
       "                                         &#x27;mod...\n",
       "                                        {&#x27;models&#x27;: [LGBMClassifier(random_state=42)],\n",
       "                                         &#x27;models__learning_rate&#x27;: [0.1],\n",
       "                                         &#x27;models__n_estimators&#x27;: [200]},\n",
       "                                        {&#x27;models&#x27;: [KNeighborsClassifier()],\n",
       "                                         &#x27;models__n_neighbors&#x27;: [2, 5, 10]},\n",
       "                                        {&#x27;models&#x27;: [&lt;catboost.core.CatBoostClassifier object at 0x7f706fa0efa0&gt;],\n",
       "                                         &#x27;models__iterations&#x27;: range(100, 200, 50),\n",
       "                                         &#x27;models__learning_rate&#x27;: [0.01, 0.05,\n",
       "                                                                   0.1],\n",
       "                                         &#x27;models__max_depth&#x27;: range(5, 7)}],\n",
       "                   random_state=42, scoring=&#x27;f1&#x27;)</pre><b>In a Jupyter environment, please rerun this cell to show the HTML representation or trust the notebook. <br />On GitHub, the HTML representation is unable to render, please try loading this page with nbviewer.org.</b></div><div class=\"sk-container\" hidden><div class=\"sk-item sk-dashed-wrapped\"><div class=\"sk-label-container\"><div class=\"sk-label fitted sk-toggleable\"><input class=\"sk-toggleable__control sk-hidden--visually\" id=\"sk-estimator-id-1\" type=\"checkbox\" ><label for=\"sk-estimator-id-1\" class=\"sk-toggleable__label fitted sk-toggleable__label-arrow fitted\">&nbsp;&nbsp;RandomizedSearchCV<a class=\"sk-estimator-doc-link fitted\" rel=\"noreferrer\" target=\"_blank\" href=\"https://scikit-learn.org/1.5/modules/generated/sklearn.model_selection.RandomizedSearchCV.html\">?<span>Documentation for RandomizedSearchCV</span></a><span class=\"sk-estimator-doc-link fitted\">i<span>Fitted</span></span></label><div class=\"sk-toggleable__content fitted\"><pre>RandomizedSearchCV(cv=3, error_score=&#x27;raise&#x27;,\n",
       "                   estimator=Pipeline(steps=[(&#x27;tfidf&#x27;, TfidfVectorizer()),\n",
       "                                             (&#x27;adasyn&#x27;,\n",
       "                                              ADASYN(random_state=42,\n",
       "                                                     sampling_strategy=&#x27;minority&#x27;)),\n",
       "                                             (&#x27;models&#x27;,\n",
       "                                              RandomForestClassifier(class_weight=&#x27;balanced&#x27;,\n",
       "                                                                     random_state=42))]),\n",
       "                   n_jobs=-1,\n",
       "                   param_distributions=[{&#x27;models&#x27;: [RandomForestClassifier(class_weight=&#x27;balanced&#x27;,\n",
       "                                                                           random_state=42)],\n",
       "                                         &#x27;mod...\n",
       "                                        {&#x27;models&#x27;: [LGBMClassifier(random_state=42)],\n",
       "                                         &#x27;models__learning_rate&#x27;: [0.1],\n",
       "                                         &#x27;models__n_estimators&#x27;: [200]},\n",
       "                                        {&#x27;models&#x27;: [KNeighborsClassifier()],\n",
       "                                         &#x27;models__n_neighbors&#x27;: [2, 5, 10]},\n",
       "                                        {&#x27;models&#x27;: [&lt;catboost.core.CatBoostClassifier object at 0x7f706fa0efa0&gt;],\n",
       "                                         &#x27;models__iterations&#x27;: range(100, 200, 50),\n",
       "                                         &#x27;models__learning_rate&#x27;: [0.01, 0.05,\n",
       "                                                                   0.1],\n",
       "                                         &#x27;models__max_depth&#x27;: range(5, 7)}],\n",
       "                   random_state=42, scoring=&#x27;f1&#x27;)</pre></div> </div></div><div class=\"sk-parallel\"><div class=\"sk-parallel-item\"><div class=\"sk-item\"><div class=\"sk-label-container\"><div class=\"sk-label fitted sk-toggleable\"><input class=\"sk-toggleable__control sk-hidden--visually\" id=\"sk-estimator-id-2\" type=\"checkbox\" ><label for=\"sk-estimator-id-2\" class=\"sk-toggleable__label fitted sk-toggleable__label-arrow fitted\">best_estimator_: Pipeline</label><div class=\"sk-toggleable__content fitted\"><pre>Pipeline(steps=[(&#x27;tfidf&#x27;, TfidfVectorizer()),\n",
       "                (&#x27;adasyn&#x27;,\n",
       "                 ADASYN(random_state=42, sampling_strategy=&#x27;minority&#x27;)),\n",
       "                (&#x27;models&#x27;, LGBMClassifier(n_estimators=200, random_state=42))])</pre></div> </div></div><div class=\"sk-serial\"><div class=\"sk-item\"><div class=\"sk-serial\"><div class=\"sk-item\"><div class=\"sk-estimator fitted sk-toggleable\"><input class=\"sk-toggleable__control sk-hidden--visually\" id=\"sk-estimator-id-3\" type=\"checkbox\" ><label for=\"sk-estimator-id-3\" class=\"sk-toggleable__label fitted sk-toggleable__label-arrow fitted\">&nbsp;TfidfVectorizer<a class=\"sk-estimator-doc-link fitted\" rel=\"noreferrer\" target=\"_blank\" href=\"https://scikit-learn.org/1.5/modules/generated/sklearn.feature_extraction.text.TfidfVectorizer.html\">?<span>Documentation for TfidfVectorizer</span></a></label><div class=\"sk-toggleable__content fitted\"><pre>TfidfVectorizer()</pre></div> </div></div><div class=\"sk-item\"><div class=\"sk-estimator fitted sk-toggleable\"><input class=\"sk-toggleable__control sk-hidden--visually\" id=\"sk-estimator-id-4\" type=\"checkbox\" ><label for=\"sk-estimator-id-4\" class=\"sk-toggleable__label fitted sk-toggleable__label-arrow fitted\">ADASYN</label><div class=\"sk-toggleable__content fitted\"><pre>ADASYN(random_state=42, sampling_strategy=&#x27;minority&#x27;)</pre></div> </div></div><div class=\"sk-item\"><div class=\"sk-estimator fitted sk-toggleable\"><input class=\"sk-toggleable__control sk-hidden--visually\" id=\"sk-estimator-id-5\" type=\"checkbox\" ><label for=\"sk-estimator-id-5\" class=\"sk-toggleable__label fitted sk-toggleable__label-arrow fitted\">LGBMClassifier</label><div class=\"sk-toggleable__content fitted\"><pre>LGBMClassifier(n_estimators=200, random_state=42)</pre></div> </div></div></div></div></div></div></div></div></div></div></div>"
      ],
      "text/plain": [
       "RandomizedSearchCV(cv=3, error_score='raise',\n",
       "                   estimator=Pipeline(steps=[('tfidf', TfidfVectorizer()),\n",
       "                                             ('adasyn',\n",
       "                                              ADASYN(random_state=42,\n",
       "                                                     sampling_strategy='minority')),\n",
       "                                             ('models',\n",
       "                                              RandomForestClassifier(class_weight='balanced',\n",
       "                                                                     random_state=42))]),\n",
       "                   n_jobs=-1,\n",
       "                   param_distributions=[{'models': [RandomForestClassifier(class_weight='balanced',\n",
       "                                                                           random_state=42)],\n",
       "                                         'mod...\n",
       "                                        {'models': [LGBMClassifier(random_state=42)],\n",
       "                                         'models__learning_rate': [0.1],\n",
       "                                         'models__n_estimators': [200]},\n",
       "                                        {'models': [KNeighborsClassifier()],\n",
       "                                         'models__n_neighbors': [2, 5, 10]},\n",
       "                                        {'models': [<catboost.core.CatBoostClassifier object at 0x7f706fa0efa0>],\n",
       "                                         'models__iterations': range(100, 200, 50),\n",
       "                                         'models__learning_rate': [0.01, 0.05,\n",
       "                                                                   0.1],\n",
       "                                         'models__max_depth': range(5, 7)}],\n",
       "                   random_state=42, scoring='f1')"
      ]
     },
     "execution_count": 15,
     "metadata": {},
     "output_type": "execute_result"
    }
   ],
   "source": [
    "randomized_search.fit(X_train, y_train)"
   ]
  },
  {
   "cell_type": "code",
   "execution_count": 16,
   "metadata": {},
   "outputs": [
    {
     "data": {
      "text/plain": [
       "('Лучшая модель и её параметры:',\n",
       " Pipeline(steps=[('tfidf', TfidfVectorizer()),\n",
       "                 ('adasyn',\n",
       "                  ADASYN(random_state=42, sampling_strategy='minority')),\n",
       "                 ('models', LGBMClassifier(n_estimators=200, random_state=42))]))"
      ]
     },
     "execution_count": 16,
     "metadata": {},
     "output_type": "execute_result"
    }
   ],
   "source": [
    "best_model = randomized_search.best_estimator_\n",
    "'Лучшая модель и её параметры:', best_model"
   ]
  },
  {
   "cell_type": "code",
   "execution_count": 17,
   "metadata": {},
   "outputs": [
    {
     "data": {
      "text/plain": [
       "('Метрика лучшей модели на кросс-валидации:', 0.7443253718379902)"
      ]
     },
     "execution_count": 17,
     "metadata": {},
     "output_type": "execute_result"
    }
   ],
   "source": [
    "'Метрика лучшей модели на кросс-валидации:', randomized_search.best_score_"
   ]
  },
  {
   "cell_type": "code",
   "execution_count": 18,
   "metadata": {
    "scrolled": true
   },
   "outputs": [],
   "source": [
    "y_pred = best_model.predict(X_test)"
   ]
  },
  {
   "cell_type": "code",
   "execution_count": 19,
   "metadata": {},
   "outputs": [
    {
     "data": {
      "text/plain": [
       "'Метрика F1 на тестовой выборке: 0.8116817724068479'"
      ]
     },
     "execution_count": 19,
     "metadata": {},
     "output_type": "execute_result"
    }
   ],
   "source": [
    "f'Метрика F1 на тестовой выборке: {f1_score(y_test, y_pred)}'"
   ]
  },
  {
   "cell_type": "markdown",
   "metadata": {},
   "source": [
    "## Выводы"
   ]
  },
  {
   "cell_type": "markdown",
   "metadata": {},
   "source": [
    "1. В датафрейме `comments` содержится 2 столбца и 159 292 строк.\n",
    "2. Данные имеют сильный дисбаланс классов, 90% положительных комментариев и 10% отрицательных.\n",
    "3. Для устранения дисбаланса классов было использовано сэмплирование ADASYN.\n",
    "4. Для классификации комментариев на токсичность было обучено 5 моделей: `RandomForestClassifier`, `LogisticRegression`, `LGBMClassifier`, `KNeighborsClassifier`, `CatBoostClassifier`. \n",
    "5. Лучшей моделью оказалась `LGBMClassifier`.\n",
    "6. Её метрика f1 на кросс-валидации 0.74, на тестовой выборке 0.81."
   ]
  },
  {
   "cell_type": "raw",
   "metadata": {},
   "source": []
  }
 ],
 "metadata": {
  "ExecuteTimeLog": [
   {
    "duration": 12653,
    "start_time": "2024-10-25T13:11:31.557Z"
   },
   {
    "duration": 0,
    "start_time": "2024-10-25T13:11:44.212Z"
   },
   {
    "duration": 0,
    "start_time": "2024-10-25T13:11:44.213Z"
   },
   {
    "duration": 0,
    "start_time": "2024-10-25T13:11:44.215Z"
   },
   {
    "duration": 0,
    "start_time": "2024-10-25T13:11:44.217Z"
   },
   {
    "duration": 0,
    "start_time": "2024-10-25T13:11:44.219Z"
   },
   {
    "duration": 1,
    "start_time": "2024-10-25T13:11:44.220Z"
   },
   {
    "duration": 0,
    "start_time": "2024-10-25T13:11:44.222Z"
   },
   {
    "duration": 12615,
    "start_time": "2024-10-25T13:12:22.032Z"
   },
   {
    "duration": 3724,
    "start_time": "2024-10-25T13:12:34.649Z"
   },
   {
    "duration": 31,
    "start_time": "2024-10-25T13:12:38.375Z"
   },
   {
    "duration": 127,
    "start_time": "2024-10-25T13:12:38.407Z"
   },
   {
    "duration": 14,
    "start_time": "2024-10-25T13:12:38.536Z"
   },
   {
    "duration": 9,
    "start_time": "2024-10-25T13:12:38.552Z"
   },
   {
    "duration": 114,
    "start_time": "2024-10-25T13:12:38.562Z"
   },
   {
    "duration": 1437,
    "start_time": "2024-10-25T13:12:38.678Z"
   },
   {
    "duration": 10,
    "start_time": "2024-10-25T13:12:40.117Z"
   },
   {
    "duration": 1710,
    "start_time": "2024-10-25T13:20:01.154Z"
   },
   {
    "duration": 16583,
    "start_time": "2024-10-25T13:20:20.816Z"
   },
   {
    "duration": 5,
    "start_time": "2024-10-25T13:22:50.735Z"
   },
   {
    "duration": 1633,
    "start_time": "2024-10-25T13:23:51.695Z"
   },
   {
    "duration": 1309,
    "start_time": "2024-10-25T13:24:53.126Z"
   },
   {
    "duration": 6849,
    "start_time": "2024-10-25T13:25:08.165Z"
   },
   {
    "duration": 1337,
    "start_time": "2024-10-25T13:25:47.220Z"
   },
   {
    "duration": 514,
    "start_time": "2024-10-25T13:34:27.619Z"
   },
   {
    "duration": 2119,
    "start_time": "2024-10-25T14:19:13.305Z"
   },
   {
    "duration": 8199,
    "start_time": "2024-10-25T14:19:50.048Z"
   },
   {
    "duration": 28,
    "start_time": "2024-10-25T14:20:00.215Z"
   },
   {
    "duration": 3128,
    "start_time": "2024-10-25T14:22:44.293Z"
   },
   {
    "duration": 27,
    "start_time": "2024-10-25T14:22:53.970Z"
   },
   {
    "duration": 2923,
    "start_time": "2024-10-25T14:24:48.869Z"
   },
   {
    "duration": 24,
    "start_time": "2024-10-25T14:24:56.055Z"
   },
   {
    "duration": 6637,
    "start_time": "2024-10-25T14:25:29.168Z"
   },
   {
    "duration": 24,
    "start_time": "2024-10-25T14:25:36.138Z"
   },
   {
    "duration": 2059,
    "start_time": "2024-10-25T14:26:01.715Z"
   },
   {
    "duration": 3848,
    "start_time": "2024-10-25T14:26:03.776Z"
   },
   {
    "duration": 107,
    "start_time": "2024-10-25T14:26:07.626Z"
   },
   {
    "duration": 125,
    "start_time": "2024-10-25T14:26:07.735Z"
   },
   {
    "duration": 21,
    "start_time": "2024-10-25T14:26:07.861Z"
   },
   {
    "duration": 5,
    "start_time": "2024-10-25T14:26:07.884Z"
   },
   {
    "duration": 5,
    "start_time": "2024-10-25T14:26:07.890Z"
   },
   {
    "duration": 126837,
    "start_time": "2024-10-25T14:26:07.896Z"
   },
   {
    "duration": 12,
    "start_time": "2024-10-25T14:28:14.735Z"
   },
   {
    "duration": 38,
    "start_time": "2024-10-25T14:28:14.750Z"
   },
   {
    "duration": 3,
    "start_time": "2024-10-25T14:28:14.790Z"
   },
   {
    "duration": 1142,
    "start_time": "2024-10-25T14:28:14.794Z"
   },
   {
    "duration": 353,
    "start_time": "2024-10-25T14:28:15.937Z"
   },
   {
    "duration": 5722,
    "start_time": "2024-10-25T14:28:16.292Z"
   },
   {
    "duration": 6,
    "start_time": "2024-10-25T14:28:22.016Z"
   },
   {
    "duration": 12,
    "start_time": "2024-10-25T14:28:22.024Z"
   },
   {
    "duration": 3151,
    "start_time": "2024-10-26T07:33:50.464Z"
   },
   {
    "duration": 8419,
    "start_time": "2024-10-26T10:06:06.341Z"
   },
   {
    "duration": 2851,
    "start_time": "2024-10-26T10:18:05.390Z"
   },
   {
    "duration": 2753,
    "start_time": "2024-10-26T11:09:07.230Z"
   },
   {
    "duration": 2052,
    "start_time": "2024-10-26T11:09:09.985Z"
   },
   {
    "duration": 1409,
    "start_time": "2024-10-26T11:09:12.040Z"
   },
   {
    "duration": 34,
    "start_time": "2024-10-26T11:09:13.451Z"
   },
   {
    "duration": 184,
    "start_time": "2024-10-26T11:09:13.489Z"
   },
   {
    "duration": 15,
    "start_time": "2024-10-26T11:09:13.675Z"
   },
   {
    "duration": 4,
    "start_time": "2024-10-26T11:09:13.692Z"
   },
   {
    "duration": 44,
    "start_time": "2024-10-26T11:09:13.698Z"
   },
   {
    "duration": 145613,
    "start_time": "2024-10-26T11:09:13.746Z"
   },
   {
    "duration": 13,
    "start_time": "2024-10-26T11:11:39.361Z"
   },
   {
    "duration": 31,
    "start_time": "2024-10-26T11:11:39.376Z"
   },
   {
    "duration": 30,
    "start_time": "2024-10-26T11:11:39.409Z"
   },
   {
    "duration": 160,
    "start_time": "2024-10-26T11:11:39.441Z"
   },
   {
    "duration": 0,
    "start_time": "2024-10-26T11:11:39.603Z"
   },
   {
    "duration": 0,
    "start_time": "2024-10-26T11:11:39.605Z"
   },
   {
    "duration": 0,
    "start_time": "2024-10-26T11:11:39.606Z"
   },
   {
    "duration": 0,
    "start_time": "2024-10-26T11:11:39.607Z"
   },
   {
    "duration": 0,
    "start_time": "2024-10-26T11:11:39.608Z"
   },
   {
    "duration": 0,
    "start_time": "2024-10-26T11:11:39.621Z"
   },
   {
    "duration": 0,
    "start_time": "2024-10-26T11:11:39.623Z"
   },
   {
    "duration": 6,
    "start_time": "2024-10-26T11:16:36.679Z"
   },
   {
    "duration": 4,
    "start_time": "2024-10-26T11:16:37.889Z"
   },
   {
    "duration": 13,
    "start_time": "2024-10-26T11:16:40.339Z"
   },
   {
    "duration": 141,
    "start_time": "2024-10-26T11:17:14.265Z"
   },
   {
    "duration": 6,
    "start_time": "2024-10-26T11:20:00.037Z"
   },
   {
    "duration": 42,
    "start_time": "2024-10-26T11:20:04.614Z"
   },
   {
    "duration": 9,
    "start_time": "2024-10-26T11:22:39.410Z"
   },
   {
    "duration": 6,
    "start_time": "2024-10-26T11:22:47.944Z"
   },
   {
    "duration": 3,
    "start_time": "2024-10-26T11:22:48.498Z"
   },
   {
    "duration": 52,
    "start_time": "2024-10-26T11:22:49.895Z"
   },
   {
    "duration": 2022,
    "start_time": "2024-10-26T11:23:23.048Z"
   },
   {
    "duration": 1018,
    "start_time": "2024-10-26T11:23:25.072Z"
   },
   {
    "duration": 44,
    "start_time": "2024-10-26T11:23:26.091Z"
   },
   {
    "duration": 146,
    "start_time": "2024-10-26T11:23:26.137Z"
   },
   {
    "duration": 16,
    "start_time": "2024-10-26T11:23:26.286Z"
   },
   {
    "duration": 17,
    "start_time": "2024-10-26T11:23:26.304Z"
   },
   {
    "duration": 6,
    "start_time": "2024-10-26T11:23:26.323Z"
   },
   {
    "duration": 137371,
    "start_time": "2024-10-26T11:23:26.330Z"
   },
   {
    "duration": 22,
    "start_time": "2024-10-26T11:25:43.703Z"
   },
   {
    "duration": 58,
    "start_time": "2024-10-26T11:25:43.727Z"
   },
   {
    "duration": 24,
    "start_time": "2024-10-26T11:25:43.787Z"
   },
   {
    "duration": 6,
    "start_time": "2024-10-26T11:25:43.813Z"
   },
   {
    "duration": 20,
    "start_time": "2024-10-26T11:25:43.821Z"
   },
   {
    "duration": 199,
    "start_time": "2024-10-26T11:25:43.844Z"
   },
   {
    "duration": 0,
    "start_time": "2024-10-26T11:25:44.045Z"
   },
   {
    "duration": 0,
    "start_time": "2024-10-26T11:25:44.046Z"
   },
   {
    "duration": 0,
    "start_time": "2024-10-26T11:25:44.047Z"
   },
   {
    "duration": 0,
    "start_time": "2024-10-26T11:25:44.048Z"
   },
   {
    "duration": 0,
    "start_time": "2024-10-26T11:25:44.049Z"
   },
   {
    "duration": 5,
    "start_time": "2024-10-26T11:28:59.641Z"
   },
   {
    "duration": 3,
    "start_time": "2024-10-26T11:29:00.203Z"
   },
   {
    "duration": 3774307,
    "start_time": "2024-10-26T11:29:00.881Z"
   },
   {
    "duration": 9,
    "start_time": "2024-10-26T12:31:55.191Z"
   },
   {
    "duration": 13,
    "start_time": "2024-10-26T12:31:55.202Z"
   },
   {
    "duration": 75,
    "start_time": "2024-10-26T12:31:55.217Z"
   },
   {
    "duration": 0,
    "start_time": "2024-10-26T12:31:55.293Z"
   },
   {
    "duration": 21,
    "start_time": "2024-10-26T13:18:46.300Z"
   },
   {
    "duration": 698,
    "start_time": "2024-10-26T13:21:36.816Z"
   },
   {
    "duration": 19,
    "start_time": "2024-10-26T13:21:40.279Z"
   },
   {
    "duration": 1637,
    "start_time": "2024-10-26T13:25:01.091Z"
   },
   {
    "duration": 15,
    "start_time": "2024-10-26T13:25:05.158Z"
   },
   {
    "duration": 2060,
    "start_time": "2024-10-26T13:31:13.179Z"
   },
   {
    "duration": 1033,
    "start_time": "2024-10-26T13:31:15.242Z"
   },
   {
    "duration": 34,
    "start_time": "2024-10-26T13:31:16.276Z"
   },
   {
    "duration": 139,
    "start_time": "2024-10-26T13:31:16.321Z"
   },
   {
    "duration": 17,
    "start_time": "2024-10-26T13:31:16.462Z"
   },
   {
    "duration": 4,
    "start_time": "2024-10-26T13:31:16.481Z"
   },
   {
    "duration": 5,
    "start_time": "2024-10-26T13:31:16.487Z"
   },
   {
    "duration": 140307,
    "start_time": "2024-10-26T13:31:16.494Z"
   },
   {
    "duration": 20,
    "start_time": "2024-10-26T13:33:36.803Z"
   },
   {
    "duration": 52,
    "start_time": "2024-10-26T13:33:36.825Z"
   },
   {
    "duration": 23,
    "start_time": "2024-10-26T13:33:36.879Z"
   },
   {
    "duration": 26,
    "start_time": "2024-10-26T13:33:36.904Z"
   },
   {
    "duration": 49,
    "start_time": "2024-10-26T13:33:36.932Z"
   },
   {
    "duration": 2100,
    "start_time": "2024-10-27T09:59:23.640Z"
   },
   {
    "duration": 0,
    "start_time": "2024-10-27T09:59:25.743Z"
   },
   {
    "duration": 0,
    "start_time": "2024-10-27T09:59:25.745Z"
   },
   {
    "duration": 0,
    "start_time": "2024-10-27T09:59:25.746Z"
   },
   {
    "duration": 0,
    "start_time": "2024-10-27T09:59:25.749Z"
   },
   {
    "duration": 0,
    "start_time": "2024-10-27T09:59:25.750Z"
   },
   {
    "duration": 0,
    "start_time": "2024-10-27T09:59:25.751Z"
   },
   {
    "duration": 0,
    "start_time": "2024-10-27T09:59:25.752Z"
   },
   {
    "duration": 0,
    "start_time": "2024-10-27T09:59:25.754Z"
   },
   {
    "duration": 0,
    "start_time": "2024-10-27T09:59:25.755Z"
   },
   {
    "duration": 0,
    "start_time": "2024-10-27T09:59:25.756Z"
   },
   {
    "duration": 0,
    "start_time": "2024-10-27T09:59:25.758Z"
   },
   {
    "duration": 0,
    "start_time": "2024-10-27T09:59:25.759Z"
   },
   {
    "duration": 0,
    "start_time": "2024-10-27T09:59:25.760Z"
   },
   {
    "duration": 0,
    "start_time": "2024-10-27T09:59:25.761Z"
   },
   {
    "duration": 0,
    "start_time": "2024-10-27T09:59:25.762Z"
   },
   {
    "duration": 0,
    "start_time": "2024-10-27T09:59:25.763Z"
   },
   {
    "duration": 1,
    "start_time": "2024-10-27T09:59:25.764Z"
   },
   {
    "duration": 0,
    "start_time": "2024-10-27T09:59:25.766Z"
   },
   {
    "duration": 8785,
    "start_time": "2024-10-27T10:00:06.996Z"
   },
   {
    "duration": 2891,
    "start_time": "2024-10-27T10:00:21.248Z"
   },
   {
    "duration": 2444,
    "start_time": "2024-10-27T10:00:24.142Z"
   },
   {
    "duration": 1505,
    "start_time": "2024-10-27T10:00:26.588Z"
   },
   {
    "duration": 35,
    "start_time": "2024-10-27T10:00:28.095Z"
   },
   {
    "duration": 145,
    "start_time": "2024-10-27T10:00:28.133Z"
   },
   {
    "duration": 15,
    "start_time": "2024-10-27T10:00:28.279Z"
   },
   {
    "duration": 43,
    "start_time": "2024-10-27T10:00:28.296Z"
   },
   {
    "duration": 23,
    "start_time": "2024-10-27T10:00:28.341Z"
   },
   {
    "duration": 139861,
    "start_time": "2024-10-27T10:00:28.366Z"
   },
   {
    "duration": 13,
    "start_time": "2024-10-27T10:02:48.230Z"
   },
   {
    "duration": 28,
    "start_time": "2024-10-27T10:02:48.245Z"
   },
   {
    "duration": 31,
    "start_time": "2024-10-27T10:02:48.274Z"
   },
   {
    "duration": 17,
    "start_time": "2024-10-27T10:02:48.307Z"
   },
   {
    "duration": 9,
    "start_time": "2024-10-27T10:02:48.326Z"
   },
   {
    "duration": 2594048,
    "start_time": "2024-10-27T10:02:48.337Z"
   },
   {
    "duration": 7,
    "start_time": "2024-10-27T10:46:02.421Z"
   },
   {
    "duration": 72,
    "start_time": "2024-10-27T10:46:02.429Z"
   },
   {
    "duration": 1633,
    "start_time": "2024-10-27T10:46:02.503Z"
   },
   {
    "duration": 16,
    "start_time": "2024-10-27T10:46:04.139Z"
   },
   {
    "duration": 1482,
    "start_time": "2024-10-27T10:46:04.156Z"
   }
  ],
  "kernelspec": {
   "display_name": "Python 3 (ipykernel)",
   "language": "python",
   "name": "python3"
  },
  "language_info": {
   "codemirror_mode": {
    "name": "ipython",
    "version": 3
   },
   "file_extension": ".py",
   "mimetype": "text/x-python",
   "name": "python",
   "nbconvert_exporter": "python",
   "pygments_lexer": "ipython3",
   "version": "3.12.4"
  },
  "toc": {
   "base_numbering": 1,
   "nav_menu": {},
   "number_sections": true,
   "sideBar": true,
   "skip_h1_title": true,
   "title_cell": "Содержание",
   "title_sidebar": "Contents",
   "toc_cell": true,
   "toc_position": {
    "height": "calc(100% - 180px)",
    "left": "10px",
    "top": "150px",
    "width": "302.391px"
   },
   "toc_section_display": true,
   "toc_window_display": false
  }
 },
 "nbformat": 4,
 "nbformat_minor": 4
}
